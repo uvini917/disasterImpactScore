{
  "nbformat": 4,
  "nbformat_minor": 0,
  "metadata": {
    "colab": {
      "provenance": []
    },
    "kernelspec": {
      "name": "python3",
      "display_name": "Python 3"
    },
    "language_info": {
      "name": "python"
    }
  },
  "cells": [
    {
      "cell_type": "markdown",
      "source": [
        "# Earthquakes\n"
      ],
      "metadata": {
        "id": "FgUzlErjFuUO"
      }
    },
    {
      "cell_type": "markdown",
      "source": [
        "## Load Merged Data"
      ],
      "metadata": {
        "id": "H5ew5ydFFNxr"
      }
    },
    {
      "cell_type": "code",
      "execution_count": null,
      "metadata": {
        "colab": {
          "base_uri": "https://localhost:8080/"
        },
        "id": "2JpOEOwPlLsi",
        "outputId": "f83dbadd-298a-48c8-d37c-dd64ff6c0c88"
      },
      "outputs": [
        {
          "output_type": "stream",
          "name": "stdout",
          "text": [
            "Drive already mounted at /content/drive/; to attempt to forcibly remount, call drive.mount(\"/content/drive/\", force_remount=True).\n"
          ]
        }
      ],
      "source": [
        "import pandas as pd\n",
        "\n",
        "from google.colab import drive\n",
        "drive.mount('/content/drive/')\n",
        "df = pd.read_csv('/content/drive/MyDrive/FYP /merged_df.csv')\n"
      ]
    },
    {
      "cell_type": "markdown",
      "source": [
        "## Missing Value Handling"
      ],
      "metadata": {
        "id": "XQyiTcSy5zXI"
      }
    },
    {
      "cell_type": "code",
      "source": [
        "(df.isnull().sum() / len(df)) * 100"
      ],
      "metadata": {
        "id": "sIdyVtFy5yt9",
        "colab": {
          "base_uri": "https://localhost:8080/"
        },
        "outputId": "98b3b0dd-c4bc-428f-c7b3-573f68688762"
      },
      "execution_count": null,
      "outputs": [
        {
          "output_type": "execute_result",
          "data": {
            "text/plain": [
              "Unnamed: 0              0.000000\n",
              "Event Id                0.000000\n",
              "Origin                  0.000000\n",
              "Depth                   0.000000\n",
              "Mag Type                0.000000\n",
              "Magnitude               0.000000\n",
              "Network                 0.000000\n",
              "Station                 0.000000\n",
              "Location                0.000000\n",
              "Latitude                0.000000\n",
              "Longitude               0.000000\n",
              "Elevation               0.000000\n",
              "Epicentral Distance     0.000000\n",
              "PGA Vertical            0.031877\n",
              "PGA Horizontal 1        0.071723\n",
              "PGA Horizontal 2        0.057112\n",
              "PGA Vertical.1          0.031877\n",
              "PGA Horizontal 1.1      0.071723\n",
              "PGA Horizontal 2.1      0.057112\n",
              "PGV Vertical            0.030549\n",
              "PGV Horizontal 1        0.071723\n",
              "PGV Horizontal 2        0.057112\n",
              "PSA 0.3 Vertical        0.030549\n",
              "PSA 0.3 Horizontal 1    0.071723\n",
              "PSA 0.3 Horizontal 2    0.057112\n",
              "PSA 1.0 Vertical        0.030549\n",
              "PSA 1.0 Horizontal 1    0.071723\n",
              "PSA 1.0 Horizontal 2    0.057112\n",
              "PSA 3.0 Vertical        0.030549\n",
              "PSA 3.0 Horizontal 1    0.071723\n",
              "PSA 3.0 Horizontal 2    0.057112\n",
              "Site Name               0.000000\n",
              "dtype: float64"
            ]
          },
          "metadata": {},
          "execution_count": 59
        }
      ]
    },
    {
      "cell_type": "code",
      "source": [
        "df = df.dropna()"
      ],
      "metadata": {
        "id": "bAJUIXis6n4y"
      },
      "execution_count": null,
      "outputs": []
    },
    {
      "cell_type": "markdown",
      "source": [
        "Remove Duplicates"
      ],
      "metadata": {
        "id": "1KHNT-J666Qr"
      }
    },
    {
      "cell_type": "code",
      "source": [
        "df.drop_duplicates(inplace=True)"
      ],
      "metadata": {
        "id": "pom6zIU-65Hg"
      },
      "execution_count": null,
      "outputs": []
    },
    {
      "cell_type": "markdown",
      "source": [
        "Data Type Conversions"
      ],
      "metadata": {
        "id": "9p9waHXa7Kxi"
      }
    },
    {
      "cell_type": "code",
      "source": [
        "df.dtypes"
      ],
      "metadata": {
        "id": "4IU3JrPc7MxM",
        "colab": {
          "base_uri": "https://localhost:8080/"
        },
        "outputId": "b03d15fd-0add-43e7-8fa7-7ee55636fa52"
      },
      "execution_count": null,
      "outputs": [
        {
          "output_type": "execute_result",
          "data": {
            "text/plain": [
              "Unnamed: 0                int64\n",
              "Event Id                 object\n",
              "Origin                   object\n",
              "Depth                     int64\n",
              "Mag Type                 object\n",
              "Magnitude               float64\n",
              "Network                  object\n",
              "Station                  object\n",
              "Location                  int64\n",
              "Latitude                float64\n",
              "Longitude               float64\n",
              "Elevation                 int64\n",
              "Epicentral Distance       int64\n",
              "PGA Vertical            float64\n",
              "PGA Horizontal 1        float64\n",
              "PGA Horizontal 2        float64\n",
              "PGA Vertical.1          float64\n",
              "PGA Horizontal 1.1      float64\n",
              "PGA Horizontal 2.1      float64\n",
              "PGV Vertical            float64\n",
              "PGV Horizontal 1        float64\n",
              "PGV Horizontal 2        float64\n",
              "PSA 0.3 Vertical        float64\n",
              "PSA 0.3 Horizontal 1    float64\n",
              "PSA 0.3 Horizontal 2    float64\n",
              "PSA 1.0 Vertical        float64\n",
              "PSA 1.0 Horizontal 1    float64\n",
              "PSA 1.0 Horizontal 2    float64\n",
              "PSA 3.0 Vertical        float64\n",
              "PSA 3.0 Horizontal 1    float64\n",
              "PSA 3.0 Horizontal 2    float64\n",
              "Site Name                object\n",
              "dtype: object"
            ]
          },
          "metadata": {},
          "execution_count": 61
        }
      ]
    },
    {
      "cell_type": "code",
      "source": [
        "df = df.astype({\n",
        "    'Event Id': 'str',\n",
        "    'Origin': 'datetime64[ns]',\n",
        "    'Mag Type': 'str',\n",
        "    'Network': 'str',\n",
        "    'Station': 'str',\n",
        "    'Location': 'str',\n",
        "    'Site Name': 'str'\n",
        "})"
      ],
      "metadata": {
        "id": "W-8s-LnS7kYU"
      },
      "execution_count": null,
      "outputs": []
    },
    {
      "cell_type": "markdown",
      "source": [
        "## Feature Enigneering"
      ],
      "metadata": {
        "id": "7C6QsK7hEA9i"
      }
    },
    {
      "cell_type": "markdown",
      "source": [
        "## Feature Selection\n",
        "\n",
        "Features -\n",
        "\n",
        "\n",
        "*   Event Id\n",
        "* Depth\n",
        "\n",
        "*   Station Name\n",
        "*   Longitude\n",
        "*   Latitude\n",
        "* PGA Vertical\n",
        "* Epicentral distance\n",
        "* Magnitude\n",
        "* PGA Vertical            \n",
        "* PGA Horizontal 1        \n",
        "* PGA Horizontal 2        \n",
        "* PGA Vertical.1          \n",
        "* PGA Horizontal 1.1      \n",
        "* PGA Horizontal 2.1      \n",
        "* PGV Vertical            \n",
        "* PGV Horizontal 1        \n",
        "* PGV Horizontal 2        \n",
        "* PSA 0.3 Vertical        \n",
        "* PSA 0.3 Horizontal 1    \n",
        "* PSA 0.3 Horizontal 2    \n",
        "* PSA 1.0 Vertical        \n",
        "* PSA 1.0 Horizontal 1    \n",
        "* PSA 1.0 Horizontal 2    \n",
        "* PSA 3.0 Vertical        \n",
        "* PSA 3.0 Horizontal 1    \n",
        "* PSA 3.0 Horizontal 2    \n",
        "\n",
        "\n",
        "\n",
        "\n"
      ],
      "metadata": {
        "id": "jIzf25kJcmI9"
      }
    },
    {
      "cell_type": "code",
      "source": [
        "df_intensity.head()"
      ],
      "metadata": {
        "colab": {
          "base_uri": "https://localhost:8080/",
          "height": 261
        },
        "id": "uvRygO6TUvQh",
        "outputId": "ce5a243b-8b4a-47fa-8a85-3168366f7dcb"
      },
      "execution_count": null,
      "outputs": [
        {
          "output_type": "execute_result",
          "data": {
            "text/plain": [
              "   PGA Vertical  PGA Horizontal 1  PGA Horizontal 2  PGA Vertical.1  \\\n",
              "0       320.982           712.838           534.569           3.272   \n",
              "1       270.380           370.319           579.549           2.756   \n",
              "2       482.563           836.537           727.136           4.919   \n",
              "3        69.830           118.232           114.341           0.712   \n",
              "4        96.127           121.509           112.875           0.980   \n",
              "\n",
              "   PGA Horizontal 1.1  PGA Horizontal 2.1  PGV Vertical  PGV Horizontal 1  \\\n",
              "0               7.266               5.449         0.816             3.146   \n",
              "1               3.775               5.908         0.980             2.557   \n",
              "2               8.527               7.412         0.887             3.514   \n",
              "3               1.205               1.166         0.325             0.591   \n",
              "4               1.239               1.151         0.322             0.848   \n",
              "\n",
              "   PGV Horizontal 2  PSA 0.3 Vertical  PSA 0.3 Horizontal 1  \\\n",
              "0             2.090             3.022                11.143   \n",
              "1             2.022             4.982                12.499   \n",
              "2             2.443             4.801                22.542   \n",
              "3             0.459             1.537                 2.459   \n",
              "4             0.422             1.252                 2.536   \n",
              "\n",
              "   PSA 0.3 Horizontal 2  PSA 1.0 Vertical  PSA 1.0 Horizontal 1  \\\n",
              "0                 9.593             0.411                 0.811   \n",
              "1                16.851             0.355                 1.474   \n",
              "2                12.519             0.446                 1.191   \n",
              "3                 1.882             0.183                 0.510   \n",
              "4                 2.064             0.193                 1.020   \n",
              "\n",
              "   PSA 1.0 Horizontal 2  PSA 3.0 Vertical  PSA 3.0 Horizontal 1  \\\n",
              "0                 1.242             0.082                 0.114   \n",
              "1                 0.869             0.037                 0.116   \n",
              "2                 1.526             0.092                 0.103   \n",
              "3                 0.376             0.030                 0.034   \n",
              "4                 0.231             0.025                 0.049   \n",
              "\n",
              "   PSA 3.0 Horizontal 2  \n",
              "0                 0.114  \n",
              "1                 0.105  \n",
              "2                 0.172  \n",
              "3                 0.028  \n",
              "4                 0.035  "
            ],
            "text/html": [
              "\n",
              "  <div id=\"df-caee8847-5ff2-4a76-9d69-57edd98c16a4\" class=\"colab-df-container\">\n",
              "    <div>\n",
              "<style scoped>\n",
              "    .dataframe tbody tr th:only-of-type {\n",
              "        vertical-align: middle;\n",
              "    }\n",
              "\n",
              "    .dataframe tbody tr th {\n",
              "        vertical-align: top;\n",
              "    }\n",
              "\n",
              "    .dataframe thead th {\n",
              "        text-align: right;\n",
              "    }\n",
              "</style>\n",
              "<table border=\"1\" class=\"dataframe\">\n",
              "  <thead>\n",
              "    <tr style=\"text-align: right;\">\n",
              "      <th></th>\n",
              "      <th>PGA Vertical</th>\n",
              "      <th>PGA Horizontal 1</th>\n",
              "      <th>PGA Horizontal 2</th>\n",
              "      <th>PGA Vertical.1</th>\n",
              "      <th>PGA Horizontal 1.1</th>\n",
              "      <th>PGA Horizontal 2.1</th>\n",
              "      <th>PGV Vertical</th>\n",
              "      <th>PGV Horizontal 1</th>\n",
              "      <th>PGV Horizontal 2</th>\n",
              "      <th>PSA 0.3 Vertical</th>\n",
              "      <th>PSA 0.3 Horizontal 1</th>\n",
              "      <th>PSA 0.3 Horizontal 2</th>\n",
              "      <th>PSA 1.0 Vertical</th>\n",
              "      <th>PSA 1.0 Horizontal 1</th>\n",
              "      <th>PSA 1.0 Horizontal 2</th>\n",
              "      <th>PSA 3.0 Vertical</th>\n",
              "      <th>PSA 3.0 Horizontal 1</th>\n",
              "      <th>PSA 3.0 Horizontal 2</th>\n",
              "    </tr>\n",
              "  </thead>\n",
              "  <tbody>\n",
              "    <tr>\n",
              "      <th>0</th>\n",
              "      <td>320.982</td>\n",
              "      <td>712.838</td>\n",
              "      <td>534.569</td>\n",
              "      <td>3.272</td>\n",
              "      <td>7.266</td>\n",
              "      <td>5.449</td>\n",
              "      <td>0.816</td>\n",
              "      <td>3.146</td>\n",
              "      <td>2.090</td>\n",
              "      <td>3.022</td>\n",
              "      <td>11.143</td>\n",
              "      <td>9.593</td>\n",
              "      <td>0.411</td>\n",
              "      <td>0.811</td>\n",
              "      <td>1.242</td>\n",
              "      <td>0.082</td>\n",
              "      <td>0.114</td>\n",
              "      <td>0.114</td>\n",
              "    </tr>\n",
              "    <tr>\n",
              "      <th>1</th>\n",
              "      <td>270.380</td>\n",
              "      <td>370.319</td>\n",
              "      <td>579.549</td>\n",
              "      <td>2.756</td>\n",
              "      <td>3.775</td>\n",
              "      <td>5.908</td>\n",
              "      <td>0.980</td>\n",
              "      <td>2.557</td>\n",
              "      <td>2.022</td>\n",
              "      <td>4.982</td>\n",
              "      <td>12.499</td>\n",
              "      <td>16.851</td>\n",
              "      <td>0.355</td>\n",
              "      <td>1.474</td>\n",
              "      <td>0.869</td>\n",
              "      <td>0.037</td>\n",
              "      <td>0.116</td>\n",
              "      <td>0.105</td>\n",
              "    </tr>\n",
              "    <tr>\n",
              "      <th>2</th>\n",
              "      <td>482.563</td>\n",
              "      <td>836.537</td>\n",
              "      <td>727.136</td>\n",
              "      <td>4.919</td>\n",
              "      <td>8.527</td>\n",
              "      <td>7.412</td>\n",
              "      <td>0.887</td>\n",
              "      <td>3.514</td>\n",
              "      <td>2.443</td>\n",
              "      <td>4.801</td>\n",
              "      <td>22.542</td>\n",
              "      <td>12.519</td>\n",
              "      <td>0.446</td>\n",
              "      <td>1.191</td>\n",
              "      <td>1.526</td>\n",
              "      <td>0.092</td>\n",
              "      <td>0.103</td>\n",
              "      <td>0.172</td>\n",
              "    </tr>\n",
              "    <tr>\n",
              "      <th>3</th>\n",
              "      <td>69.830</td>\n",
              "      <td>118.232</td>\n",
              "      <td>114.341</td>\n",
              "      <td>0.712</td>\n",
              "      <td>1.205</td>\n",
              "      <td>1.166</td>\n",
              "      <td>0.325</td>\n",
              "      <td>0.591</td>\n",
              "      <td>0.459</td>\n",
              "      <td>1.537</td>\n",
              "      <td>2.459</td>\n",
              "      <td>1.882</td>\n",
              "      <td>0.183</td>\n",
              "      <td>0.510</td>\n",
              "      <td>0.376</td>\n",
              "      <td>0.030</td>\n",
              "      <td>0.034</td>\n",
              "      <td>0.028</td>\n",
              "    </tr>\n",
              "    <tr>\n",
              "      <th>4</th>\n",
              "      <td>96.127</td>\n",
              "      <td>121.509</td>\n",
              "      <td>112.875</td>\n",
              "      <td>0.980</td>\n",
              "      <td>1.239</td>\n",
              "      <td>1.151</td>\n",
              "      <td>0.322</td>\n",
              "      <td>0.848</td>\n",
              "      <td>0.422</td>\n",
              "      <td>1.252</td>\n",
              "      <td>2.536</td>\n",
              "      <td>2.064</td>\n",
              "      <td>0.193</td>\n",
              "      <td>1.020</td>\n",
              "      <td>0.231</td>\n",
              "      <td>0.025</td>\n",
              "      <td>0.049</td>\n",
              "      <td>0.035</td>\n",
              "    </tr>\n",
              "  </tbody>\n",
              "</table>\n",
              "</div>\n",
              "    <div class=\"colab-df-buttons\">\n",
              "\n",
              "  <div class=\"colab-df-container\">\n",
              "    <button class=\"colab-df-convert\" onclick=\"convertToInteractive('df-caee8847-5ff2-4a76-9d69-57edd98c16a4')\"\n",
              "            title=\"Convert this dataframe to an interactive table.\"\n",
              "            style=\"display:none;\">\n",
              "\n",
              "  <svg xmlns=\"http://www.w3.org/2000/svg\" height=\"24px\" viewBox=\"0 -960 960 960\">\n",
              "    <path d=\"M120-120v-720h720v720H120Zm60-500h600v-160H180v160Zm220 220h160v-160H400v160Zm0 220h160v-160H400v160ZM180-400h160v-160H180v160Zm440 0h160v-160H620v160ZM180-180h160v-160H180v160Zm440 0h160v-160H620v160Z\"/>\n",
              "  </svg>\n",
              "    </button>\n",
              "\n",
              "  <style>\n",
              "    .colab-df-container {\n",
              "      display:flex;\n",
              "      gap: 12px;\n",
              "    }\n",
              "\n",
              "    .colab-df-convert {\n",
              "      background-color: #E8F0FE;\n",
              "      border: none;\n",
              "      border-radius: 50%;\n",
              "      cursor: pointer;\n",
              "      display: none;\n",
              "      fill: #1967D2;\n",
              "      height: 32px;\n",
              "      padding: 0 0 0 0;\n",
              "      width: 32px;\n",
              "    }\n",
              "\n",
              "    .colab-df-convert:hover {\n",
              "      background-color: #E2EBFA;\n",
              "      box-shadow: 0px 1px 2px rgba(60, 64, 67, 0.3), 0px 1px 3px 1px rgba(60, 64, 67, 0.15);\n",
              "      fill: #174EA6;\n",
              "    }\n",
              "\n",
              "    .colab-df-buttons div {\n",
              "      margin-bottom: 4px;\n",
              "    }\n",
              "\n",
              "    [theme=dark] .colab-df-convert {\n",
              "      background-color: #3B4455;\n",
              "      fill: #D2E3FC;\n",
              "    }\n",
              "\n",
              "    [theme=dark] .colab-df-convert:hover {\n",
              "      background-color: #434B5C;\n",
              "      box-shadow: 0px 1px 3px 1px rgba(0, 0, 0, 0.15);\n",
              "      filter: drop-shadow(0px 1px 2px rgba(0, 0, 0, 0.3));\n",
              "      fill: #FFFFFF;\n",
              "    }\n",
              "  </style>\n",
              "\n",
              "    <script>\n",
              "      const buttonEl =\n",
              "        document.querySelector('#df-caee8847-5ff2-4a76-9d69-57edd98c16a4 button.colab-df-convert');\n",
              "      buttonEl.style.display =\n",
              "        google.colab.kernel.accessAllowed ? 'block' : 'none';\n",
              "\n",
              "      async function convertToInteractive(key) {\n",
              "        const element = document.querySelector('#df-caee8847-5ff2-4a76-9d69-57edd98c16a4');\n",
              "        const dataTable =\n",
              "          await google.colab.kernel.invokeFunction('convertToInteractive',\n",
              "                                                    [key], {});\n",
              "        if (!dataTable) return;\n",
              "\n",
              "        const docLinkHtml = 'Like what you see? Visit the ' +\n",
              "          '<a target=\"_blank\" href=https://colab.research.google.com/notebooks/data_table.ipynb>data table notebook</a>'\n",
              "          + ' to learn more about interactive tables.';\n",
              "        element.innerHTML = '';\n",
              "        dataTable['output_type'] = 'display_data';\n",
              "        await google.colab.output.renderOutput(dataTable, element);\n",
              "        const docLink = document.createElement('div');\n",
              "        docLink.innerHTML = docLinkHtml;\n",
              "        element.appendChild(docLink);\n",
              "      }\n",
              "    </script>\n",
              "  </div>\n",
              "\n",
              "\n",
              "<div id=\"df-a35eab2b-7abb-45de-a7ae-a503464b6356\">\n",
              "  <button class=\"colab-df-quickchart\" onclick=\"quickchart('df-a35eab2b-7abb-45de-a7ae-a503464b6356')\"\n",
              "            title=\"Suggest charts\"\n",
              "            style=\"display:none;\">\n",
              "\n",
              "<svg xmlns=\"http://www.w3.org/2000/svg\" height=\"24px\"viewBox=\"0 0 24 24\"\n",
              "     width=\"24px\">\n",
              "    <g>\n",
              "        <path d=\"M19 3H5c-1.1 0-2 .9-2 2v14c0 1.1.9 2 2 2h14c1.1 0 2-.9 2-2V5c0-1.1-.9-2-2-2zM9 17H7v-7h2v7zm4 0h-2V7h2v10zm4 0h-2v-4h2v4z\"/>\n",
              "    </g>\n",
              "</svg>\n",
              "  </button>\n",
              "\n",
              "<style>\n",
              "  .colab-df-quickchart {\n",
              "      --bg-color: #E8F0FE;\n",
              "      --fill-color: #1967D2;\n",
              "      --hover-bg-color: #E2EBFA;\n",
              "      --hover-fill-color: #174EA6;\n",
              "      --disabled-fill-color: #AAA;\n",
              "      --disabled-bg-color: #DDD;\n",
              "  }\n",
              "\n",
              "  [theme=dark] .colab-df-quickchart {\n",
              "      --bg-color: #3B4455;\n",
              "      --fill-color: #D2E3FC;\n",
              "      --hover-bg-color: #434B5C;\n",
              "      --hover-fill-color: #FFFFFF;\n",
              "      --disabled-bg-color: #3B4455;\n",
              "      --disabled-fill-color: #666;\n",
              "  }\n",
              "\n",
              "  .colab-df-quickchart {\n",
              "    background-color: var(--bg-color);\n",
              "    border: none;\n",
              "    border-radius: 50%;\n",
              "    cursor: pointer;\n",
              "    display: none;\n",
              "    fill: var(--fill-color);\n",
              "    height: 32px;\n",
              "    padding: 0;\n",
              "    width: 32px;\n",
              "  }\n",
              "\n",
              "  .colab-df-quickchart:hover {\n",
              "    background-color: var(--hover-bg-color);\n",
              "    box-shadow: 0 1px 2px rgba(60, 64, 67, 0.3), 0 1px 3px 1px rgba(60, 64, 67, 0.15);\n",
              "    fill: var(--button-hover-fill-color);\n",
              "  }\n",
              "\n",
              "  .colab-df-quickchart-complete:disabled,\n",
              "  .colab-df-quickchart-complete:disabled:hover {\n",
              "    background-color: var(--disabled-bg-color);\n",
              "    fill: var(--disabled-fill-color);\n",
              "    box-shadow: none;\n",
              "  }\n",
              "\n",
              "  .colab-df-spinner {\n",
              "    border: 2px solid var(--fill-color);\n",
              "    border-color: transparent;\n",
              "    border-bottom-color: var(--fill-color);\n",
              "    animation:\n",
              "      spin 1s steps(1) infinite;\n",
              "  }\n",
              "\n",
              "  @keyframes spin {\n",
              "    0% {\n",
              "      border-color: transparent;\n",
              "      border-bottom-color: var(--fill-color);\n",
              "      border-left-color: var(--fill-color);\n",
              "    }\n",
              "    20% {\n",
              "      border-color: transparent;\n",
              "      border-left-color: var(--fill-color);\n",
              "      border-top-color: var(--fill-color);\n",
              "    }\n",
              "    30% {\n",
              "      border-color: transparent;\n",
              "      border-left-color: var(--fill-color);\n",
              "      border-top-color: var(--fill-color);\n",
              "      border-right-color: var(--fill-color);\n",
              "    }\n",
              "    40% {\n",
              "      border-color: transparent;\n",
              "      border-right-color: var(--fill-color);\n",
              "      border-top-color: var(--fill-color);\n",
              "    }\n",
              "    60% {\n",
              "      border-color: transparent;\n",
              "      border-right-color: var(--fill-color);\n",
              "    }\n",
              "    80% {\n",
              "      border-color: transparent;\n",
              "      border-right-color: var(--fill-color);\n",
              "      border-bottom-color: var(--fill-color);\n",
              "    }\n",
              "    90% {\n",
              "      border-color: transparent;\n",
              "      border-bottom-color: var(--fill-color);\n",
              "    }\n",
              "  }\n",
              "</style>\n",
              "\n",
              "  <script>\n",
              "    async function quickchart(key) {\n",
              "      const quickchartButtonEl =\n",
              "        document.querySelector('#' + key + ' button');\n",
              "      quickchartButtonEl.disabled = true;  // To prevent multiple clicks.\n",
              "      quickchartButtonEl.classList.add('colab-df-spinner');\n",
              "      try {\n",
              "        const charts = await google.colab.kernel.invokeFunction(\n",
              "            'suggestCharts', [key], {});\n",
              "      } catch (error) {\n",
              "        console.error('Error during call to suggestCharts:', error);\n",
              "      }\n",
              "      quickchartButtonEl.classList.remove('colab-df-spinner');\n",
              "      quickchartButtonEl.classList.add('colab-df-quickchart-complete');\n",
              "    }\n",
              "    (() => {\n",
              "      let quickchartButtonEl =\n",
              "        document.querySelector('#df-a35eab2b-7abb-45de-a7ae-a503464b6356 button');\n",
              "      quickchartButtonEl.style.display =\n",
              "        google.colab.kernel.accessAllowed ? 'block' : 'none';\n",
              "    })();\n",
              "  </script>\n",
              "</div>\n",
              "\n",
              "    </div>\n",
              "  </div>\n"
            ],
            "application/vnd.google.colaboratory.intrinsic+json": {
              "type": "dataframe",
              "variable_name": "df_intensity",
              "summary": "{\n  \"name\": \"df_intensity\",\n  \"rows\": 75210,\n  \"fields\": [\n    {\n      \"column\": \"PGA Vertical\",\n      \"properties\": {\n        \"dtype\": \"number\",\n        \"std\": 251.3019127926164,\n        \"min\": 0.004,\n        \"max\": 27927.613,\n        \"num_unique_values\": 30275,\n        \"samples\": [\n          3.543,\n          42.173,\n          11.877\n        ],\n        \"semantic_type\": \"\",\n        \"description\": \"\"\n      }\n    },\n    {\n      \"column\": \"PGA Horizontal 1\",\n      \"properties\": {\n        \"dtype\": \"number\",\n        \"std\": 229.810617806499,\n        \"min\": 0.002,\n        \"max\": 20980.514,\n        \"num_unique_values\": 35011,\n        \"samples\": [\n          42.296,\n          223.854,\n          233.582\n        ],\n        \"semantic_type\": \"\",\n        \"description\": \"\"\n      }\n    },\n    {\n      \"column\": \"PGA Horizontal 2\",\n      \"properties\": {\n        \"dtype\": \"number\",\n        \"std\": 226.77421413009284,\n        \"min\": 0.001,\n        \"max\": 16002.753,\n        \"num_unique_values\": 35202,\n        \"samples\": [\n          165.576,\n          269.322,\n          1.094\n        ],\n        \"semantic_type\": \"\",\n        \"description\": \"\"\n      }\n    },\n    {\n      \"column\": \"PGA Vertical.1\",\n      \"properties\": {\n        \"dtype\": \"number\",\n        \"std\": 2.5616911906574478,\n        \"min\": 0.0,\n        \"max\": 284.685,\n        \"num_unique_values\": 3674,\n        \"samples\": [\n          0.734,\n          6.67,\n          1.862\n        ],\n        \"semantic_type\": \"\",\n        \"description\": \"\"\n      }\n    },\n    {\n      \"column\": \"PGA Horizontal 1.1\",\n      \"properties\": {\n        \"dtype\": \"number\",\n        \"std\": 2.342616573075505,\n        \"min\": 0.0,\n        \"max\": 213.869,\n        \"num_unique_values\": 4622,\n        \"samples\": [\n          0.393,\n          0.579,\n          0.551\n        ],\n        \"semantic_type\": \"\",\n        \"description\": \"\"\n      }\n    },\n    {\n      \"column\": \"PGA Horizontal 2.1\",\n      \"properties\": {\n        \"dtype\": \"number\",\n        \"std\": 2.311664130783759,\n        \"min\": 0.0,\n        \"max\": 163.127,\n        \"num_unique_values\": 4626,\n        \"samples\": [\n          2.141,\n          0.182,\n          12.598\n        ],\n        \"semantic_type\": \"\",\n        \"description\": \"\"\n      }\n    },\n    {\n      \"column\": \"PGV Vertical\",\n      \"properties\": {\n        \"dtype\": \"number\",\n        \"std\": 2.871162673687684,\n        \"min\": -100.0,\n        \"max\": 90.734,\n        \"num_unique_values\": 2227,\n        \"samples\": [\n          0.006,\n          0.141,\n          0.719\n        ],\n        \"semantic_type\": \"\",\n        \"description\": \"\"\n      }\n    },\n    {\n      \"column\": \"PGV Horizontal 1\",\n      \"properties\": {\n        \"dtype\": \"number\",\n        \"std\": 3.1961524782148545,\n        \"min\": -100.0,\n        \"max\": 259.416,\n        \"num_unique_values\": 3388,\n        \"samples\": [\n          3.486,\n          14.308,\n          18.335\n        ],\n        \"semantic_type\": \"\",\n        \"description\": \"\"\n      }\n    },\n    {\n      \"column\": \"PGV Horizontal 2\",\n      \"properties\": {\n        \"dtype\": \"number\",\n        \"std\": 2.9897582849535866,\n        \"min\": -100.0,\n        \"max\": 125.446,\n        \"num_unique_values\": 3375,\n        \"samples\": [\n          8.585,\n          0.69,\n          12.521\n        ],\n        \"semantic_type\": \"\",\n        \"description\": \"\"\n      }\n    },\n    {\n      \"column\": \"PSA 0.3 Vertical\",\n      \"properties\": {\n        \"dtype\": \"number\",\n        \"std\": 2.4146857090425216,\n        \"min\": 0.0,\n        \"max\": 293.007,\n        \"num_unique_values\": 4004,\n        \"samples\": [\n          1.085,\n          1.483,\n          4.219\n        ],\n        \"semantic_type\": \"\",\n        \"description\": \"\"\n      }\n    },\n    {\n      \"column\": \"PSA 0.3 Horizontal 1\",\n      \"properties\": {\n        \"dtype\": \"number\",\n        \"std\": 4.827180363212353,\n        \"min\": 0.0,\n        \"max\": 374.63,\n        \"num_unique_values\": 6478,\n        \"samples\": [\n          3.74,\n          1.085,\n          0.873\n        ],\n        \"semantic_type\": \"\",\n        \"description\": \"\"\n      }\n    },\n    {\n      \"column\": \"PSA 0.3 Horizontal 2\",\n      \"properties\": {\n        \"dtype\": \"number\",\n        \"std\": 4.689135766209712,\n        \"min\": 0.0,\n        \"max\": 357.825,\n        \"num_unique_values\": 6500,\n        \"samples\": [\n          1.134,\n          9.356,\n          7.271\n        ],\n        \"semantic_type\": \"\",\n        \"description\": \"\"\n      }\n    },\n    {\n      \"column\": \"PSA 1.0 Vertical\",\n      \"properties\": {\n        \"dtype\": \"number\",\n        \"std\": 0.7783155625487468,\n        \"min\": 0.0,\n        \"max\": 73.683,\n        \"num_unique_values\": 2058,\n        \"samples\": [\n          1.373,\n          0.35,\n          0.916\n        ],\n        \"semantic_type\": \"\",\n        \"description\": \"\"\n      }\n    },\n    {\n      \"column\": \"PSA 1.0 Horizontal 1\",\n      \"properties\": {\n        \"dtype\": \"number\",\n        \"std\": 2.3868362084940005,\n        \"min\": 0.0,\n        \"max\": 309.674,\n        \"num_unique_values\": 3187,\n        \"samples\": [\n          8.517,\n          0.488,\n          3.0\n        ],\n        \"semantic_type\": \"\",\n        \"description\": \"\"\n      }\n    },\n    {\n      \"column\": \"PSA 1.0 Horizontal 2\",\n      \"properties\": {\n        \"dtype\": \"number\",\n        \"std\": 2.314956491920864,\n        \"min\": 0.0,\n        \"max\": 169.564,\n        \"num_unique_values\": 3188,\n        \"samples\": [\n          3.667,\n          0.352,\n          0.488\n        ],\n        \"semantic_type\": \"\",\n        \"description\": \"\"\n      }\n    },\n    {\n      \"column\": \"PSA 3.0 Vertical\",\n      \"properties\": {\n        \"dtype\": \"number\",\n        \"std\": 0.39766082641710687,\n        \"min\": 0.0,\n        \"max\": 39.143,\n        \"num_unique_values\": 1062,\n        \"samples\": [\n          0.003,\n          3.879,\n          2.165\n        ],\n        \"semantic_type\": \"\",\n        \"description\": \"\"\n      }\n    },\n    {\n      \"column\": \"PSA 3.0 Horizontal 1\",\n      \"properties\": {\n        \"dtype\": \"number\",\n        \"std\": 0.6146442072391614,\n        \"min\": 0.0,\n        \"max\": 63.761,\n        \"num_unique_values\": 1330,\n        \"samples\": [\n          0.492,\n          0.085,\n          2.562\n        ],\n        \"semantic_type\": \"\",\n        \"description\": \"\"\n      }\n    },\n    {\n      \"column\": \"PSA 3.0 Horizontal 2\",\n      \"properties\": {\n        \"dtype\": \"number\",\n        \"std\": 0.6009710201709813,\n        \"min\": 0.0,\n        \"max\": 46.15,\n        \"num_unique_values\": 1310,\n        \"samples\": [\n          6.575,\n          1.783,\n          0.332\n        ],\n        \"semantic_type\": \"\",\n        \"description\": \"\"\n      }\n    }\n  ]\n}"
            }
          },
          "metadata": {},
          "execution_count": 63
        }
      ]
    },
    {
      "cell_type": "markdown",
      "source": [
        "## Weight Assignment"
      ],
      "metadata": {
        "id": "7sLAnty03Gag"
      }
    },
    {
      "cell_type": "markdown",
      "source": [
        "### PCA (Principal Component Analysis)\n"
      ],
      "metadata": {
        "id": "kzDsH7Vl3J5D"
      }
    },
    {
      "cell_type": "markdown",
      "source": [
        "### Import Libraries"
      ],
      "metadata": {
        "id": "lLrLXQQd3vTy"
      }
    },
    {
      "cell_type": "code",
      "source": [
        "from sklearn.decomposition import PCA\n",
        "from sklearn.preprocessing import StandardScaler\n",
        "import matplotlib.pyplot as plt"
      ],
      "metadata": {
        "id": "FvxfK25p3JlM"
      },
      "execution_count": null,
      "outputs": []
    },
    {
      "cell_type": "markdown",
      "source": [
        "### Standardize the Data"
      ],
      "metadata": {
        "id": "wMSX8kh6315Y"
      }
    },
    {
      "cell_type": "code",
      "source": [
        "df_intensity = df[ [\n",
        "    \"PGA Vertical\",\n",
        "    \"PGA Horizontal 1\",\n",
        "    \"PGA Horizontal 2\",\n",
        "    \"PGA Vertical.1\",\n",
        "    \"PGA Horizontal 1.1\",\n",
        "    \"PGA Horizontal 2.1\",\n",
        "    \"PGV Vertical\",\n",
        "    \"PGV Horizontal 1\",\n",
        "    \"PGV Horizontal 2\",\n",
        "    \"PSA 0.3 Vertical\",\n",
        "    \"PSA 0.3 Horizontal 1\",\n",
        "    \"PSA 0.3 Horizontal 2\",\n",
        "    \"PSA 1.0 Vertical\",\n",
        "    \"PSA 1.0 Horizontal 1\",\n",
        "    \"PSA 1.0 Horizontal 2\",\n",
        "    \"PSA 3.0 Vertical\",\n",
        "    \"PSA 3.0 Horizontal 1\",\n",
        "    \"PSA 3.0 Horizontal 2\",\n",
        "]]\n"
      ],
      "metadata": {
        "id": "amRetRbGUfsB"
      },
      "execution_count": null,
      "outputs": []
    },
    {
      "cell_type": "code",
      "source": [
        "scaler = StandardScaler()\n",
        "scaled_data = scaler.fit_transform(df_intensity)"
      ],
      "metadata": {
        "id": "ORuriuRB34x2"
      },
      "execution_count": null,
      "outputs": []
    },
    {
      "cell_type": "code",
      "source": [
        "pca = PCA(n_components=None)\n",
        "principal_components = pca.fit_transform(scaled_data)\n",
        "explained_variance = pca.explained_variance_ratio_\n",
        "print(\"Explained Variance Ratios:\", explained_variance)\n",
        "plt.figure(figsize=(8, 6))\n",
        "plt.bar(range(1, len(explained_variance) + 1), explained_variance, alpha=0.5, align='center')\n",
        "plt.ylabel('Explained Variance Ratio')\n",
        "plt.xlabel('Principal Components')\n",
        "plt.show()\n"
      ],
      "metadata": {
        "colab": {
          "base_uri": "https://localhost:8080/",
          "height": 633
        },
        "id": "sN4Bl8-i3-II",
        "outputId": "e27e18fd-9350-4549-89b7-af111bd9a6eb"
      },
      "execution_count": null,
      "outputs": [
        {
          "output_type": "stream",
          "name": "stdout",
          "text": [
            "Explained Variance Ratios: [6.74268126e-01 1.01853565e-01 4.88731012e-02 3.57355750e-02\n",
            " 2.83711142e-02 2.66083843e-02 2.41800518e-02 1.37109602e-02\n",
            " 1.17137856e-02 1.03193877e-02 7.51650123e-03 6.48279948e-03\n",
            " 5.18875307e-03 3.44808583e-03 1.72980845e-03 4.36693460e-10\n",
            " 4.22596569e-10 3.51328468e-10]\n"
          ]
        },
        {
          "output_type": "display_data",
          "data": {
            "text/plain": [
              "<Figure size 800x600 with 1 Axes>"
            ],
            "image/png": "[encoded data removed]"
          },
          "metadata": {}
        }
      ]
    },
    {
      "cell_type": "code",
      "source": [
        "# Calculate the cumulative explained variance\n",
        "cumulative_explained_variance = np.cumsum(pca.explained_variance_ratio_)\n",
        "\n",
        "# Determine the number of components that explain 90% and 95% of the variance\n",
        "components_90 = np.argmax(cumulative_explained_variance >= 0.90) + 1\n",
        "components_95 = np.argmax(cumulative_explained_variance >= 0.95) + 1\n",
        "\n",
        "print(f\"Number of components explaining 90% of the variance: {components_90}\")\n",
        "print(f\"Number of components explaining 95% of the variance: {components_95}\")\n",
        "\n",
        "# Plot the cumulative explained variance\n",
        "plt.figure(figsize=(10, 6))\n",
        "plt.plot(range(1, len(cumulative_explained_variance) + 1), cumulative_explained_variance, marker='o', linestyle='--')\n",
        "plt.axhline(y=0.90, color='r', linestyle='-')\n",
        "plt.axhline(y=0.95, color='g', linestyle='-')\n",
        "plt.xlabel('Number of Principal Components')\n",
        "plt.ylabel('Cumulative Explained Variance')\n",
        "plt.title('Cumulative Explained Variance by Number of Principal Components')\n",
        "plt.grid(True)\n",
        "plt.show()\n"
      ],
      "metadata": {
        "colab": {
          "base_uri": "https://localhost:8080/",
          "height": 600
        },
        "id": "nfKNl8LE_N_l",
        "outputId": "6e6e5842-6451-4267-f816-a1d09f775134"
      },
      "execution_count": null,
      "outputs": [
        {
          "output_type": "stream",
          "name": "stdout",
          "text": [
            "Number of components explaining 90% of the variance: 6\n",
            "Number of components explaining 95% of the variance: 8\n"
          ]
        },
        {
          "output_type": "display_data",
          "data": {
            "text/plain": [
              "<Figure size 1000x600 with 1 Axes>"
            ],
            "image/png": "[encoded data removed]"
          },
          "metadata": {}
        }
      ]
    },
    {
      "cell_type": "markdown",
      "source": [
        "## Weight Assignment"
      ],
      "metadata": {
        "id": "4SDpFovzCKs7"
      }
    },
    {
      "cell_type": "code",
      "source": [
        "# Values and their corresponding variances\n",
        "values_with_variances = {\n",
        "    \"PGA Vertical\": 0.674268126,\n",
        "    \"PGA Horizontal 1\": 0.101853565,\n",
        "    \"PGA Horizontal 2\": 0.0488731012,\n",
        "    \"PGA Vertical.1\": 0.035735575,\n",
        "    \"PGA Horizontal 1.1\": 0.0283711142,\n",
        "    \"PGA Horizontal 2.1\": 0.0266083843\n",
        "}\n",
        "\n",
        "# Function to calculate proportional weights\n",
        "def calculate_proportional_weights(values_dict):\n",
        "    total_variance = sum(values_dict.values())\n",
        "    proportional_weights = {key: (value / total_variance) * 100 for key, value in values_dict.items()}\n",
        "    return proportional_weights\n",
        "\n",
        "# Get the proportional weights\n",
        "proportional_weights = calculate_proportional_weights(values_with_variances)\n",
        "\n",
        "# Print the proportional weights\n",
        "for key, value in proportional_weights.items():\n",
        "    print(f\"{key}: {value:.2f}%\")\n"
      ],
      "metadata": {
        "colab": {
          "base_uri": "https://localhost:8080/"
        },
        "id": "G84kC7roCKQF",
        "outputId": "4d05e425-8338-4348-fa47-fed7443969ea"
      },
      "execution_count": null,
      "outputs": [
        {
          "output_type": "stream",
          "name": "stdout",
          "text": [
            "PGA Vertical: 73.63%\n",
            "PGA Horizontal 1: 11.12%\n",
            "PGA Horizontal 2: 5.34%\n",
            "PGA Vertical.1: 3.90%\n",
            "PGA Horizontal 1.1: 3.10%\n",
            "PGA Horizontal 2.1: 2.91%\n"
          ]
        }
      ]
    },
    {
      "cell_type": "markdown",
      "source": [
        "## Impact Score Genreation"
      ],
      "metadata": {
        "id": "alppEKXA9U36"
      }
    },
    {
      "cell_type": "code",
      "source": [
        "from typing_extensions import final\n",
        "import pandas as pd\n",
        "# Weights for the PGAs\n",
        "weights = {\n",
        "    \"PGA Vertical\": 73.63,\n",
        "    \"PGA Horizontal 1\": 11.12,\n",
        "    \"PGA Horizontal 2\": 5.34,\n",
        "    \"PGA Vertical.1\": 3.90,\n",
        "    \"PGA Horizontal 1.1\": 3.10,\n",
        "    \"PGA Horizontal 2.1\": 2.91\n",
        "}\n",
        "\n",
        "# Normalize weights so they sum to 1\n",
        "total_weight = sum(weights.values())\n",
        "weights = {k: v / total_weight for k, v in weights.items()}\n",
        "\n",
        "# Function to compute the PGA impact score for each row\n",
        "def compute_pga_impact(row):\n",
        "    pga_impact = sum(row[key] * weights[key] for key in weights)\n",
        "    return pga_impact\n",
        "\n",
        "# Normalize a series to the range 0-100\n",
        "def normalize(series):\n",
        "    min_val = series.min()\n",
        "    max_val = series.max()\n",
        "    normalized = 100 * (series - min_val) / (max_val - min_val)\n",
        "    return normalized\n",
        "\n",
        "# Calculate the PGA impact for each row\n",
        "df['PGA Impact'] = df.apply(compute_pga_impact, axis=1)\n",
        "\n",
        "# Normalize PGA Impact\n",
        "df['PGA Impact Normalized'] = normalize(df['PGA Impact'])\n",
        "\n",
        "# Calculate the magnitude impact and normalize\n",
        "df['Magnitude Impact'] = df['Magnitude'] / df['Epicentral Distance']\n",
        "df['Magnitude Impact Normalized'] = normalize(df['Magnitude Impact'])\n",
        "\n",
        "# Calculate the depth impact (inverse of depth) and normalize\n",
        "df['Depth Impact'] = df['Depth'].apply(lambda x: 1 / x if x != 0 else 0)\n",
        "df['Depth Impact Normalized'] = normalize(df['Depth Impact'])\n",
        "\n",
        "# Calculate the total impact score using the specified weights\n",
        "df['Total Impact Score'] = (\n",
        "    0.4 * df['PGA Impact Normalized'] +\n",
        "    0.4 * df['Magnitude Impact Normalized'] +\n",
        "    0.2 * df['Depth Impact Normalized']\n",
        ")\n",
        "\n",
        "final_df = df[['Station', 'Longitude', 'Latitude', 'Total Impact Score']]\n",
        "\n",
        "# Display the DataFrame with the new Impact Score columns\n",
        "print(final_df)\n"
      ],
      "metadata": {
        "id": "SiLJFBwGU8VQ",
        "colab": {
          "base_uri": "https://localhost:8080/"
        },
        "outputId": "99c34378-f564-434a-ec3d-bef8a19efdc5"
      },
      "execution_count": null,
      "outputs": [
        {
          "output_type": "stream",
          "name": "stdout",
          "text": [
            "      Station  Longitude  Latitude  Total Impact Score\n",
            "0        NBLC    172.731   -43.507            2.843011\n",
            "1        NNBS    172.718   -43.495            2.711414\n",
            "2        HPSC    172.702   -43.502            3.100896\n",
            "3        PARS    172.751   -43.568            2.349659\n",
            "4        GODS    172.770   -43.578            2.385071\n",
            "...       ...        ...       ...                 ...\n",
            "75285    CMHS    172.624   -43.566            2.618201\n",
            "75286    CACS    172.530   -43.483            2.729871\n",
            "75287    CBGS    172.620   -43.529            2.569213\n",
            "75288    PPHS    172.607   -43.493            2.584108\n",
            "75289     OXZ    172.038   -43.326            2.563926\n",
            "\n",
            "[75210 rows x 4 columns]\n"
          ]
        }
      ]
    },
    {
      "cell_type": "markdown",
      "source": [
        "# Save to CSV"
      ],
      "metadata": {
        "id": "ZuWPwAoQcPXs"
      }
    },
    {
      "cell_type": "code",
      "source": [
        "# prompt: save station_impact_df to a csv file\n",
        "\n",
        "final_df.to_csv('/content/drive/MyDrive/FYP /station_impact.csv', index=False)\n",
        "\n"
      ],
      "metadata": {
        "id": "IgVeWKLCj5HV"
      },
      "execution_count": null,
      "outputs": []
    }
  ]
}